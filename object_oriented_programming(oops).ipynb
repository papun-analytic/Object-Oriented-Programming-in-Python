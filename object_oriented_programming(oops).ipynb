{
 "cells": [
  {
   "cell_type": "markdown",
   "metadata": {},
   "source": [
    "### class variable vs instances variable"
   ]
  },
  {
   "cell_type": "markdown",
   "metadata": {},
   "source": [
    "#### class variable"
   ]
  },
  {
   "cell_type": "code",
   "execution_count": 8,
   "metadata": {},
   "outputs": [],
   "source": [
    "class Shark: ### define the class shark\n",
    "    animal_type=\"fish\" ### class variable animal_type whosw vlaue is assaigned to be \"fish\"\n",
    "### class variable is defined inside the class but outside the method\n",
    "### class variable is defined within the class construction\n",
    "### they are owned by class itself and shared by all instances due to which they have same value for every intialization"
   ]
  },
  {
   "cell_type": "code",
   "execution_count": 9,
   "metadata": {},
   "outputs": [
    {
     "data": {
      "text/plain": [
       "'fish'"
      ]
     },
     "execution_count": 9,
     "metadata": {},
     "output_type": "execute_result"
    }
   ],
   "source": [
    "shark=Shark()     ### new instances of class Shark\n",
    "shark.animal_type ### have same value for intialization\n"
   ]
  },
  {
   "cell_type": "markdown",
   "metadata": {},
   "source": [
    "#### instances variable"
   ]
  },
  {
   "cell_type": "code",
   "execution_count": 10,
   "metadata": {},
   "outputs": [],
   "source": [
    "class Shark: ###define the class shark\n",
    "    def __init__(self,name,age):### intialize and define the  constructor method\n",
    "        self.name=name\n",
    "        self.age=age\n",
    "### instances variable are owned by instances of class\n",
    "### for each instances of class or object  instances variable  is different"
   ]
  },
  {
   "cell_type": "code",
   "execution_count": 11,
   "metadata": {},
   "outputs": [],
   "source": [
    "#### when create instances Shark we need to define this variable which is passed as parameter to the constructor method\n",
    "shark=Shark(\"tinyshark\",5)"
   ]
  },
  {
   "cell_type": "code",
   "execution_count": 13,
   "metadata": {},
   "outputs": [
    {
     "data": {
      "text/plain": [
       "'tinyshark'"
      ]
     },
     "execution_count": 13,
     "metadata": {},
     "output_type": "execute_result"
    }
   ],
   "source": [
    "shark.name"
   ]
  },
  {
   "cell_type": "code",
   "execution_count": 15,
   "metadata": {},
   "outputs": [
    {
     "data": {
      "text/plain": [
       "5"
      ]
     },
     "execution_count": 15,
     "metadata": {},
     "output_type": "execute_result"
    }
   ],
   "source": [
    "\n",
    "shark.age\n"
   ]
  },
  {
   "cell_type": "markdown",
   "metadata": {},
   "source": [
    "### class\n",
    "1. class provides the means of bundling data and functionality together\n",
    "2. a user-defined prototype that defined the set of attribute that charactristics the objects\n",
    "3. attribute---datamembers--->class variable and instances variable"
   ]
  },
  {
   "cell_type": "code",
   "execution_count": 16,
   "metadata": {},
   "outputs": [],
   "source": [
    "class Parrot: ### defining the empty class with class keyword\n",
    "    pass\n",
    "\n",
    "## here we use pass statement because we create empty class\n",
    "## pass is place holder for future code\n",
    "## it does nothing but hinder the error because in programming\n",
    "## language does not allowed empty codes in loop,if,class and method"
   ]
  },
  {
   "cell_type": "markdown",
   "metadata": {},
   "source": [
    "### object\n",
    "1. it is a instances of a class\n",
    "2. unique instance of a data structure that comprises both data member(class variable and instance variable) and method"
   ]
  },
  {
   "cell_type": "code",
   "execution_count": 17,
   "metadata": {},
   "outputs": [],
   "source": [
    "class Parrot:### class\n",
    "    obj=Parrot()### object"
   ]
  },
  {
   "cell_type": "markdown",
   "metadata": {},
   "source": [
    "### creating a class and object"
   ]
  },
  {
   "cell_type": "code",
   "execution_count": 35,
   "metadata": {},
   "outputs": [
    {
     "name": "stdout",
     "output_type": "stream",
     "text": [
      "the bird name is BLU and age is10\n"
     ]
    }
   ],
   "source": [
    "class Parrot:##class\n",
    "    species=\"bird\"###class instances or class variable\n",
    "    \n",
    "    def __init__(self,name,age):### constructor method\n",
    "        self.name=name ###instance variable\n",
    "        self.age=age\n",
    "blu=Parrot(\"BLU\",10)\n",
    "woo=Parrot(\"WOO\",5)\n",
    "print(\"the bird name is \"+blu.name+\" and age is\"+str(blu.age))"
   ]
  },
  {
   "cell_type": "code",
   "execution_count": 28,
   "metadata": {},
   "outputs": [
    {
     "name": "stdout",
     "output_type": "stream",
     "text": [
      "bird\n",
      "bird\n"
     ]
    }
   ],
   "source": [
    "print(blu.species)\n",
    "print(woo.species)\n"
   ]
  },
  {
   "cell_type": "code",
   "execution_count": null,
   "metadata": {},
   "outputs": [],
   "source": [
    "print(blu.name)\n"
   ]
  }
 ],
 "metadata": {
  "kernelspec": {
   "display_name": "Python 3",
   "language": "python",
   "name": "python3"
  },
  "language_info": {
   "codemirror_mode": {
    "name": "ipython",
    "version": 3
   },
   "file_extension": ".py",
   "mimetype": "text/x-python",
   "name": "python",
   "nbconvert_exporter": "python",
   "pygments_lexer": "ipython3",
   "version": "3.8.5"
  }
 },
 "nbformat": 4,
 "nbformat_minor": 4
}
